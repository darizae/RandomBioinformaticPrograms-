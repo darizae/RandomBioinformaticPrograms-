{
 "cells": [
  {
   "cell_type": "markdown",
   "id": "60fff9e5",
   "metadata": {},
   "source": [
    "Simulate cleavage of a nucleotide sequence at a specific cleavage site, based on the recognition sequence"
   ]
  },
  {
   "cell_type": "code",
   "execution_count": 13,
   "id": "a325a30f",
   "metadata": {},
   "outputs": [],
   "source": [
    "#Parameters:\n",
    "#rec_seq = enzyme recognition sequence (for example, CCC*GGG) (* cleavage site)\n",
    "#seq = nucleotide sequence to be cleaved \n",
    "\n",
    "#Returns a list consisting of the restriction fragments\n",
    "\n",
    "def restrict(rec_seq, seq):\n",
    "    \n",
    "    index_sep = rec_seq.find(\"*\")\n",
    "    necessary = len(rec_seq)-1\n",
    "    \n",
    "    rec_index = 0\n",
    "    points = 0\n",
    "    \n",
    "    restriction_frag1 = \"\"\n",
    "    restriction_frag2 = \"\"\n",
    "    \n",
    "    cleavage_site = int\n",
    "    \n",
    "    for i in range(len(seq)):\n",
    "        \n",
    "        if seq[i] == rec_seq[rec_index]:\n",
    "            points += 1\n",
    "            rec_index += 1\n",
    "            \n",
    "            if points == index_sep:\n",
    "                rec_index += 1\n",
    "                \n",
    "                if rec_index > index_sep:\n",
    "                    cleavage_site = i\n",
    "        \n",
    "            if points == necessary:\n",
    "                restriction_frag1 = seq[0:cleavage_site+1]\n",
    "                restriction_frag2 = seq[cleavage_site+1::]\n",
    "                break\n",
    "    \n",
    "        else:\n",
    "            points = 0\n",
    "            rec_index = 0\n",
    "            \n",
    "    print(f\"Cleavage site at index: {cleavage_site}\")\n",
    "    return [restriction_frag1, restriction_frag2]\n",
    "    "
   ]
  },
  {
   "cell_type": "code",
   "execution_count": 14,
   "id": "235510a9",
   "metadata": {},
   "outputs": [
    {
     "name": "stdout",
     "output_type": "stream",
     "text": [
      "Cleavage site at index: 58\n"
     ]
    },
    {
     "data": {
      "text/plain": [
       "['AATTCAGATGCTGTTAGTACCTACATCAGTGAATTCCAACAACTTACACTTATTTTCCC',\n",
       " 'GGGACTAGTTTTC']"
      ]
     },
     "execution_count": 14,
     "metadata": {},
     "output_type": "execute_result"
    }
   ],
   "source": [
    "rec_seq = \"CCC*GGG\"\n",
    "seq = \"AATTCAGATGCTGTTAGTACCTACATCAGTGAATTCCAACAACTTACACTTATTTTCCCGGGACTAGTTTTC\"\n",
    "\n",
    "restrict(rec_seq,seq)"
   ]
  },
  {
   "cell_type": "code",
   "execution_count": null,
   "id": "7f085531",
   "metadata": {},
   "outputs": [],
   "source": []
  }
 ],
 "metadata": {
  "kernelspec": {
   "display_name": "Python 3 (ipykernel)",
   "language": "python",
   "name": "python3"
  },
  "language_info": {
   "codemirror_mode": {
    "name": "ipython",
    "version": 3
   },
   "file_extension": ".py",
   "mimetype": "text/x-python",
   "name": "python",
   "nbconvert_exporter": "python",
   "pygments_lexer": "ipython3",
   "version": "3.9.12"
  }
 },
 "nbformat": 4,
 "nbformat_minor": 5
}
